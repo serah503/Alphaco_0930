{
 "cells": [
  {
   "cell_type": "code",
   "execution_count": null,
   "id": "0f2ab7da-68b5-42e3-a308-fcc5ff61d476",
   "metadata": {},
   "outputs": [],
   "source": [
    "# NumPy & Series 문제"
   ]
  },
  {
   "cell_type": "code",
   "execution_count": null,
   "id": "39450b03-5d68-4729-9f70-1def39646960",
   "metadata": {},
   "outputs": [],
   "source": [
    "# 문제 1. \n",
    "- 답지를 확인하고 알맞게 슬라이싱을 진행하세요. "
   ]
  },
  {
   "cell_type": "code",
   "execution_count": 8,
   "id": "15496d11-c6e8-4342-b6ee-e6f85f4a645a",
   "metadata": {},
   "outputs": [],
   "source": [
    "import numpy as np\n",
    "arr = np.array([1, 2, 3, 4, 5, 6])"
   ]
  },
  {
   "cell_type": "code",
   "execution_count": null,
   "id": "195d479e-0d78-499b-a7a4-d4099a0378ae",
   "metadata": {},
   "outputs": [],
   "source": [
    "# 답지\n",
    "[2, 4]"
   ]
  },
  {
   "cell_type": "code",
   "execution_count": 29,
   "id": "ea83ab2d-41cd-48b6-9574-9de7d25a0727",
   "metadata": {},
   "outputs": [
    {
     "name": "stdout",
     "output_type": "stream",
     "text": [
      "[[4 5 6]]\n"
     ]
    }
   ],
   "source": [
    "#답지\n",
    "print(arr[1:5:2])  # 2번째 요소부터 5번째 요소까지, 2씩 건너뜀: [2, 4]"
   ]
  },
  {
   "cell_type": "code",
   "execution_count": null,
   "id": "9f7b2522-8e68-4170-b5cc-51824eaf1b3f",
   "metadata": {},
   "outputs": [],
   "source": [
    "# 문제 2. 다차원 배열에서 슬라이싱"
   ]
  },
  {
   "cell_type": "code",
   "execution_count": 17,
   "id": "5c987e33-0d7e-4c79-93fb-7fbbdbf4ee20",
   "metadata": {},
   "outputs": [],
   "source": [
    "arr = np.array([[1, 2, 3], [4, 5, 6], [7, 8, 9]])"
   ]
  },
  {
   "cell_type": "code",
   "execution_count": null,
   "id": "e1dba811-4271-4f55-8aa9-287d4b1e7bea",
   "metadata": {},
   "outputs": [],
   "source": [
    "# 답지\n",
    "# [[2, 3], [5, 6]]"
   ]
  },
  {
   "cell_type": "code",
   "execution_count": 30,
   "id": "d58a796d-8072-4d4e-8c52-f03aad00ea8f",
   "metadata": {},
   "outputs": [
    {
     "data": {
      "text/plain": [
       "array([[2, 3],\n",
       "       [5, 6]])"
      ]
     },
     "execution_count": 30,
     "metadata": {},
     "output_type": "execute_result"
    }
   ],
   "source": [
    "# 답지\n",
    "# [[2, 3], [5, 6]]\n",
    "arr[0:2, 1:3]  # 첫 번째와 두 번째 행, 두 번째와 세 번째 열 선택: "
   ]
  },
  {
   "cell_type": "code",
   "execution_count": null,
   "id": "add240dd-3cd4-40b3-b81e-0df61c158931",
   "metadata": {},
   "outputs": [],
   "source": [
    "# 문제 3. 배열에서 슬라이싱과 조건 사용"
   ]
  },
  {
   "cell_type": "code",
   "execution_count": null,
   "id": "ebcfcebb-beaf-4f98-a336-33dc045685ac",
   "metadata": {},
   "outputs": [],
   "source": [
    "arr = np.array([1, 2, 3, 4, 5, 6])"
   ]
  },
  {
   "cell_type": "code",
   "execution_count": 31,
   "id": "c42f2a66-d291-41fb-a7a4-f7408e6c3513",
   "metadata": {},
   "outputs": [
    {
     "data": {
      "text/plain": [
       "array([4, 5, 6, 7, 8, 9])"
      ]
     },
     "execution_count": 31,
     "metadata": {},
     "output_type": "execute_result"
    }
   ],
   "source": [
    "# 답지\n",
    "# [4, 5, 6]\n",
    "arr[arr > 3]  "
   ]
  },
  {
   "cell_type": "code",
   "execution_count": 28,
   "id": "5ecb8a09-41f6-4b56-93b8-b4db849507d2",
   "metadata": {},
   "outputs": [
    {
     "data": {
      "text/plain": [
       "array([], shape=(0, 3), dtype=int64)"
      ]
     },
     "execution_count": 28,
     "metadata": {},
     "output_type": "execute_result"
    }
   ],
   "source": [
    "arr[3:6]"
   ]
  },
  {
   "cell_type": "code",
   "execution_count": null,
   "id": "895324a7-75bf-418d-9b23-aa3031e5f078",
   "metadata": {},
   "outputs": [],
   "source": [
    "# 문제 4. 배열의 일부 값 변경\n",
    "- 두 번째와 세 번째 값을 10과 20으로 변경: [1, 10, 20, 4, 5]"
   ]
  },
  {
   "cell_type": "code",
   "execution_count": 33,
   "id": "30496428-d291-4683-b56c-5750394b768a",
   "metadata": {},
   "outputs": [],
   "source": [
    "arr = np.array([1, 2, 3, 4, 5])"
   ]
  },
  {
   "cell_type": "code",
   "execution_count": null,
   "id": "340e0121-0a7e-486a-8992-860d9d775830",
   "metadata": {},
   "outputs": [],
   "source": [
    "# 답지\n",
    "array([ 1, 10, 20,  4,  5])"
   ]
  },
  {
   "cell_type": "code",
   "execution_count": 34,
   "id": "6e0d1df9-7f97-4c22-a4af-84f6463c3b2a",
   "metadata": {},
   "outputs": [
    {
     "data": {
      "text/plain": [
       "array([ 1, 10, 20,  4,  5])"
      ]
     },
     "execution_count": 34,
     "metadata": {},
     "output_type": "execute_result"
    }
   ],
   "source": [
    "# 답지\n",
    "arr[1:3] = [10, 20]  # 두 번째와 세 번째 값을 10과 20으로 변경: [1, 10, 20, 4, 5]\n",
    "arr"
   ]
  },
  {
   "cell_type": "code",
   "execution_count": null,
   "id": "9e27ca68-47d6-4850-b6b9-03ecbc71c793",
   "metadata": {},
   "outputs": [],
   "source": [
    "# 문제 5. 다차원 배열의 축 기준으로 슬라이싱\n",
    "- 모든 행의 두번째 열 선택"
   ]
  },
  {
   "cell_type": "code",
   "execution_count": 35,
   "id": "e1eaf0c7-b2b3-4706-bb97-5cf2d987c351",
   "metadata": {},
   "outputs": [],
   "source": [
    "arr = np.array([[1, 2, 3], [4, 5, 6], [7, 8, 9]])"
   ]
  },
  {
   "cell_type": "code",
   "execution_count": null,
   "id": "94da4cdf-4ba8-4b15-97ec-2524e453d9f5",
   "metadata": {},
   "outputs": [],
   "source": [
    "# 답지\n",
    "# [2, 5, 8]"
   ]
  },
  {
   "cell_type": "code",
   "execution_count": 36,
   "id": "fdd77a0f-7e72-4578-b5bb-e9d368580d8f",
   "metadata": {},
   "outputs": [
    {
     "data": {
      "text/plain": [
       "array([2, 5, 8])"
      ]
     },
     "execution_count": 36,
     "metadata": {},
     "output_type": "execute_result"
    }
   ],
   "source": [
    "arr = np.array([[1, 2, 3], [4, 5, 6], [7, 8, 9]])\n",
    "\n",
    "# 답지\n",
    "arr[:, 1]  # 모든 행의 두 번째 열 선택: [2, 5, 8]"
   ]
  },
  {
   "cell_type": "code",
   "execution_count": null,
   "id": "b4575796-7568-4c18-a01c-69f0f2e622e3",
   "metadata": {},
   "outputs": [],
   "source": [
    "# 문제 6. 복합 조건(여러 조건)을 사용\n",
    "- 2보다 크고 5보다 작은 값 조회"
   ]
  },
  {
   "cell_type": "code",
   "execution_count": null,
   "id": "1d9b472c-6956-4ce8-8cbe-3b4bce654f27",
   "metadata": {},
   "outputs": [],
   "source": [
    "arr = np.array([1, 2, 3, 4, 5])\n",
    "filtered_arr = arr[(arr > 2) & (arr < 5)]"
   ]
  },
  {
   "cell_type": "code",
   "execution_count": null,
   "id": "23d74b37-362c-45cb-a107-57e9f0860dbd",
   "metadata": {},
   "outputs": [],
   "source": [
    "# 2보다 크고 5보다 작은 값\n",
    "\n",
    "# 답지\n",
    "[3, 4]"
   ]
  },
  {
   "cell_type": "code",
   "execution_count": 37,
   "id": "2442866a-a7e7-4ce4-86ca-284af568177b",
   "metadata": {},
   "outputs": [
    {
     "data": {
      "text/plain": [
       "[3, 4]"
      ]
     },
     "execution_count": 37,
     "metadata": {},
     "output_type": "execute_result"
    }
   ],
   "source": [
    "arr = np.array([1, 2, 3, 4, 5])\n",
    "filtered_arr = arr[(arr > 2) & (arr < 5)]  # 2보다 크고 5보다 작은 값: [3, 4]\n",
    "\n",
    "# 답지\n",
    "[3, 4]"
   ]
  },
  {
   "cell_type": "code",
   "execution_count": null,
   "id": "a3afdb97-ba1b-4e5f-8695-566d6f15aeda",
   "metadata": {},
   "outputs": [],
   "source": [
    "# 문제 7. 다차원 배열에 조건 적용\n",
    "- 4보다 큰 값은 그대로, 나머지는 0으로 대체"
   ]
  },
  {
   "cell_type": "code",
   "execution_count": null,
   "id": "159c8e5c-52c9-4ee6-895d-92227e9d37f7",
   "metadata": {},
   "outputs": [],
   "source": [
    "arr = np.array([[1, 2, 3], [4, 5, 6], [7, 8, 9]])\n",
    "result = np.where(arr > 4, arr, 0) "
   ]
  },
  {
   "cell_type": "code",
   "execution_count": null,
   "id": "6bad16af-3647-4314-b689-a7c05bd2c2d2",
   "metadata": {},
   "outputs": [],
   "source": [
    "# 답지\n",
    "[[0, 0, 0], [0, 5, 6], [7, 8, 9]]"
   ]
  },
  {
   "cell_type": "code",
   "execution_count": 38,
   "id": "3c0fe53f-d760-4b2f-9dc0-e954ab9463e9",
   "metadata": {},
   "outputs": [
    {
     "data": {
      "text/plain": [
       "[[0, 0, 0], [0, 5, 6], [7, 8, 9]]"
      ]
     },
     "execution_count": 38,
     "metadata": {},
     "output_type": "execute_result"
    }
   ],
   "source": [
    "arr = np.array([[1, 2, 3], [4, 5, 6], [7, 8, 9]])\n",
    "result = np.where(arr > 4, arr, 0) \n",
    "\n",
    "# 답지\n",
    "[[0, 0, 0], [0, 5, 6], [7, 8, 9]]"
   ]
  },
  {
   "cell_type": "code",
   "execution_count": 42,
   "id": "171fb9e2-400b-4994-9856-6538277cb8d6",
   "metadata": {},
   "outputs": [
    {
     "ename": "SyntaxError",
     "evalue": "invalid syntax (3020348358.py, line 2)",
     "output_type": "error",
     "traceback": [
      "\u001b[0;36m  Cell \u001b[0;32mIn[42], line 2\u001b[0;36m\u001b[0m\n\u001b[0;31m    - 주어진 Series에서 값이 50보다 큰 경우에는 1로, 그렇지 않은 경우에는 0으로 변경하시오.\u001b[0m\n\u001b[0m          ^\u001b[0m\n\u001b[0;31mSyntaxError\u001b[0m\u001b[0;31m:\u001b[0m invalid syntax\n"
     ]
    }
   ],
   "source": [
    "# 문제 8. series에 numpy 적용1\n",
    "- 주어진 Series에서 값이 50보다 큰 경우에는 1로, 그렇지 않은 경우에는 0으로 변경하시오.\n",
    "- numpy 메서드 이용 (numpy.where)"
   ]
  },
  {
   "cell_type": "code",
   "execution_count": 2,
   "id": "4f0371ff-5502-408a-8577-8697832b0c61",
   "metadata": {},
   "outputs": [],
   "source": [
    "import pandas as pd\n",
    "import numpy as np\n",
    "\n",
    "# Pandas Series 생성\n",
    "series = pd.Series([10, 55, 30, 70, 45])"
   ]
  },
  {
   "cell_type": "code",
   "execution_count": null,
   "id": "c2d697ae-0b76-48c8-bac9-1a667801c092",
   "metadata": {},
   "outputs": [],
   "source": [
    "# 답지\n",
    "# 결과 출력\n",
    "# [0 1 0 1 0] <class 'numpy.ndarray'>"
   ]
  },
  {
   "cell_type": "code",
   "execution_count": 3,
   "id": "0920a826-bfce-474e-b2aa-123540f14f85",
   "metadata": {},
   "outputs": [
    {
     "name": "stdout",
     "output_type": "stream",
     "text": [
      "[0 1 0 1 0]\n"
     ]
    }
   ],
   "source": [
    "# 답지\n",
    "# np.where를 사용하여 조건 적용\n",
    "result = np.where(series > 50, 1, 0)\n",
    "\n",
    "# 결과 출력\n",
    "print(result)"
   ]
  },
  {
   "cell_type": "code",
   "execution_count": null,
   "id": "b0537ae6-ad71-465c-9f1e-4b2155be5f91",
   "metadata": {},
   "outputs": [],
   "source": [
    "# 문제 9. series에 numpy 적용2\n",
    "- 주어진 Series에서 값이 30보다 크고 60보다 작은 경우에는 해당 값에 10을 더하고, 그 외의 값은 그대로 두시오.\n",
    "- numpy 메서드 이용 (numpy.where)"
   ]
  },
  {
   "cell_type": "code",
   "execution_count": 4,
   "id": "6931f9a1-2cc5-4c55-929a-7b2204fffb9d",
   "metadata": {},
   "outputs": [],
   "source": [
    "# Pandas Series 생성\n",
    "series = pd.Series([25, 35, 45, 60, 75])"
   ]
  },
  {
   "cell_type": "code",
   "execution_count": 6,
   "id": "22caafc4-9b73-4d87-8a7d-7cc5c5b58078",
   "metadata": {},
   "outputs": [
    {
     "ename": "SyntaxError",
     "evalue": "invalid syntax (4124837935.py, line 7)",
     "output_type": "error",
     "traceback": [
      "\u001b[0;36m  Cell \u001b[0;32mIn[6], line 7\u001b[0;36m\u001b[0m\n\u001b[0;31m    0    25\u001b[0m\n\u001b[0m         ^\u001b[0m\n\u001b[0;31mSyntaxError\u001b[0m\u001b[0;31m:\u001b[0m invalid syntax\n"
     ]
    }
   ],
   "source": [
    "# Series 결과 답안\n",
    "result_series = pd.Series([25, 45, 55, 60, 75])\n",
    "\n",
    "# 결과 출력\n",
    "print(result_series)\n",
    "\n",
    "0    25\n",
    "1    45\n",
    "2    55\n",
    "3    60\n",
    "4    75\n",
    "dtype: int64"
   ]
  },
  {
   "cell_type": "code",
   "execution_count": 7,
   "id": "b1998d48-7706-4a75-b29a-25d16ea90762",
   "metadata": {},
   "outputs": [
    {
     "name": "stdout",
     "output_type": "stream",
     "text": [
      "0    25\n",
      "1    45\n",
      "2    55\n",
      "3    60\n",
      "4    75\n",
      "dtype: int64\n"
     ]
    }
   ],
   "source": [
    "# np.where를 사용하여 조건 적용\n",
    "result = pd.Series(np.where((series > 30) & (series < 60), series + 10, series))\n",
    "\n",
    "# 결과 출력\n",
    "print(result)"
   ]
  },
  {
   "cell_type": "code",
   "execution_count": null,
   "id": "1ab853a7-c177-460b-9207-82aeb3bdd45b",
   "metadata": {},
   "outputs": [],
   "source": [
    "# 문제 10. 다중 조건\n",
    "- 주어진 Series에서 cond 리스트에 조건을 정의하고, 각 조건을 만족하는 값에 대해 다른 연산을 수행하여 새로운 Series를 생성하시오.\n",
    "    + cond[0]: 값이 50보다 크면 해당 값을 2배로 증가시킴.\n",
    "    + cond[1]: 값이 30보다 작으면 해당 값을 10으로 변경.\n",
    "    + 그 외의 값은 그대로 유지."
   ]
  },
  {
   "cell_type": "code",
   "execution_count": 8,
   "id": "e4fa7be8-6558-4edb-afe9-e32fa21a50fe",
   "metadata": {},
   "outputs": [],
   "source": [
    "series = pd.Series([25, 45, 55, 60, 75])"
   ]
  },
  {
   "cell_type": "code",
   "execution_count": 9,
   "id": "8f5f7d43-bfa2-4a86-ad65-52e37cc5403a",
   "metadata": {},
   "outputs": [
    {
     "ename": "SyntaxError",
     "evalue": "invalid syntax (3232235158.py, line 4)",
     "output_type": "error",
     "traceback": [
      "\u001b[0;36m  Cell \u001b[0;32mIn[9], line 4\u001b[0;36m\u001b[0m\n\u001b[0;31m    0     10\u001b[0m\n\u001b[0m          ^\u001b[0m\n\u001b[0;31mSyntaxError\u001b[0m\u001b[0;31m:\u001b[0m invalid syntax\n"
     ]
    }
   ],
   "source": [
    "# 결과 답안\n",
    "pd.Series([10, 45, 110, 120, 150])\n",
    "\n",
    "0     10\n",
    "1     45\n",
    "2    110\n",
    "3    120\n",
    "4    150\n",
    "dtype: int64"
   ]
  },
  {
   "cell_type": "code",
   "execution_count": 10,
   "id": "383ecf64-693c-42dc-b07b-d4ada391dc3d",
   "metadata": {},
   "outputs": [
    {
     "name": "stdout",
     "output_type": "stream",
     "text": [
      "0     10\n",
      "1     45\n",
      "2    110\n",
      "3    120\n",
      "4    150\n",
      "dtype: int64\n"
     ]
    }
   ],
   "source": [
    "import pandas as pd\n",
    "import numpy as np\n",
    "\n",
    "# Pandas Series 생성\n",
    "series = pd.Series([25, 45, 55, 60, 75])\n",
    "\n",
    "# 조건 리스트 생성\n",
    "cond = [\n",
    "    series > 50,  # cond[0]: 값이 50보다 큰 경우\n",
    "    series < 30   # cond[1]: 값이 30보다 작은 경우\n",
    "]\n",
    "\n",
    "# np.where를 사용하여 조건에 따른 연산 적용\n",
    "result = pd.Series(\n",
    "    np.where(cond[0], series * 2, \n",
    "             np.where(cond[1], 10, series))\n",
    ")\n",
    "\n",
    "# 결과 출력\n",
    "print(result)"
   ]
  },
  {
   "cell_type": "code",
   "execution_count": 52,
   "id": "36b27c57-aa30-4aee-b4d4-6cd0309f0207",
   "metadata": {},
   "outputs": [],
   "source": [
    "##데이터프레임 생성"
   ]
  },
  {
   "cell_type": "code",
   "execution_count": 1,
   "id": "2c3f6d8d-c8ed-4966-af03-9710ce94a629",
   "metadata": {},
   "outputs": [],
   "source": [
    "import numpy as np\n",
    "import pandas as pd"
   ]
  },
  {
   "cell_type": "code",
   "execution_count": 11,
   "id": "6258dbe5-b7e0-46a9-a9c8-aab579a5b296",
   "metadata": {},
   "outputs": [
    {
     "ename": "SyntaxError",
     "evalue": "invalid syntax (2635121292.py, line 1)",
     "output_type": "error",
     "traceback": [
      "\u001b[0;36m  Cell \u001b[0;32mIn[11], line 1\u001b[0;36m\u001b[0m\n\u001b[0;31m    2.1.1\u001b[0m\n\u001b[0m       ^\u001b[0m\n\u001b[0;31mSyntaxError\u001b[0m\u001b[0;31m:\u001b[0m invalid syntax\n"
     ]
    }
   ],
   "source": [
    "2.1.1\n",
    "2.2.3\n",
    "\n",
    "- 첫번째 방법: 리스트 활용\n",
    "- 두번째 방법: 딕셔너리 활용(강사 선호)"
   ]
  },
  {
   "cell_type": "code",
   "execution_count": 14,
   "id": "60cd72f6-e559-40d2-a1fc-bec3a9b90946",
   "metadata": {},
   "outputs": [
    {
     "data": {
      "text/html": [
       "<div>\n",
       "<style scoped>\n",
       "    .dataframe tbody tr th:only-of-type {\n",
       "        vertical-align: middle;\n",
       "    }\n",
       "\n",
       "    .dataframe tbody tr th {\n",
       "        vertical-align: top;\n",
       "    }\n",
       "\n",
       "    .dataframe thead th {\n",
       "        text-align: right;\n",
       "    }\n",
       "</style>\n",
       "<table border=\"1\" class=\"dataframe\">\n",
       "  <thead>\n",
       "    <tr style=\"text-align: right;\">\n",
       "      <th></th>\n",
       "      <th>종목코드</th>\n",
       "      <th>종목명</th>\n",
       "      <th>현재가</th>\n",
       "      <th>등락률</th>\n",
       "    </tr>\n",
       "  </thead>\n",
       "  <tbody>\n",
       "    <tr>\n",
       "      <th>0</th>\n",
       "      <td>039900</td>\n",
       "      <td>알파코</td>\n",
       "      <td>1000000</td>\n",
       "      <td>10.05</td>\n",
       "    </tr>\n",
       "    <tr>\n",
       "      <th>1</th>\n",
       "      <td>039910</td>\n",
       "      <td>A</td>\n",
       "      <td>50000</td>\n",
       "      <td>1.05</td>\n",
       "    </tr>\n",
       "    <tr>\n",
       "      <th>2</th>\n",
       "      <td>039900</td>\n",
       "      <td>B</td>\n",
       "      <td>1000</td>\n",
       "      <td>1.28</td>\n",
       "    </tr>\n",
       "  </tbody>\n",
       "</table>\n",
       "</div>"
      ],
      "text/plain": [
       "     종목코드  종목명      현재가    등락률\n",
       "0  039900  알파코  1000000  10.05\n",
       "1  039910    A    50000   1.05\n",
       "2  039900    B     1000   1.28"
      ]
     },
     "execution_count": 14,
     "metadata": {},
     "output_type": "execute_result"
    }
   ],
   "source": [
    "data = [\n",
    "    [\"039900\", \"알파코\", 1000000, 10.05],\n",
    "    [\"039910\", \"A\", 50000, 1.05],\n",
    "    [\"039900\", \"B\", 1000, 1.28]\n",
    "]\n",
    "\n",
    "columns = [\"종목코드\", \"종목명\", \"현재가\", \"등락률\"]\n",
    "df = pd.DataFrame(data=data, columns = columns)\n",
    "df"
   ]
  },
  {
   "cell_type": "code",
   "execution_count": null,
   "id": "3c57742e-d9ef-4756-a734-4492c4d90e79",
   "metadata": {},
   "outputs": [],
   "source": []
  }
 ],
 "metadata": {
  "kernelspec": {
   "display_name": "Python 3 (ipykernel)",
   "language": "python",
   "name": "python3"
  },
  "language_info": {
   "codemirror_mode": {
    "name": "ipython",
    "version": 3
   },
   "file_extension": ".py",
   "mimetype": "text/x-python",
   "name": "python",
   "nbconvert_exporter": "python",
   "pygments_lexer": "ipython3",
   "version": "3.12.2"
  }
 },
 "nbformat": 4,
 "nbformat_minor": 5
}
